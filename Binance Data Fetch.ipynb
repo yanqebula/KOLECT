{
 "cells": [
  {
   "cell_type": "code",
   "execution_count": 1,
   "id": "6552bc62",
   "metadata": {},
   "outputs": [],
   "source": [
    "from binance.client import Client\n",
    "import pandas as pd\n",
    "import datetime"
   ]
  },
  {
   "cell_type": "code",
   "execution_count": 2,
   "id": "288b67d2",
   "metadata": {},
   "outputs": [],
   "source": [
    "api_key = None\n",
    "api_secret = None"
   ]
  },
  {
   "cell_type": "code",
   "execution_count": 53,
   "id": "5baa6e03",
   "metadata": {},
   "outputs": [],
   "source": [
    "def get_timerange_klines(api_key, api_secret, symbol, start_time, end_time, interval='second'):\n",
    "    \"\"\"\n",
    "    根据 symbol 和 time 查询一段时间内的 K 线数据，\n",
    "    返回该 K 线的收盘价 (close price)。\n",
    "\n",
    "    参数:\n",
    "      symbol: 交易对标识，如 \"BTCUSDT\"\n",
    "      start_time: 目标时间（datetime 对象）\n",
    "      end_time: 目标时间（datetime 对象）\n",
    "      interval: 间隔，必须从['second','minute','hour']中选择\n",
    "      api_key: 币安的API Key\n",
    "      api_secret: 币安的API Secret\n",
    "\n",
    "    返回:\n",
    "      最近 K 线的收盘价格 (float)。如果没有数据，则返回 None。\n",
    "    \"\"\"\n",
    "    \n",
    "    client = Client(api_key, api_secret)\n",
    "    if interval == 'second':\n",
    "        klines = client.get_historical_klines(symbol=symbol, interval=Client.KLINE_INTERVAL_1SECOND, start_str=str(start_time), end_str=str(end_time))\n",
    "    elif interval == 'minute':\n",
    "        klines = client.get_historical_klines(symbol=symbol, interval=Client.KLINE_INTERVAL_1MINUTE, start_str=str(start_time), end_str=str(end_time))\n",
    "    elif interval == 'hour':\n",
    "        klines = client.get_historical_klines(symbol=symbol, interval=Client.KLINE_INTERVAL_1HOUR, start_str=str(start_time), end_str=str(end_time))\n",
    "    else:\n",
    "        raise Exception(\"interval should be selected from ['second', 'minute', 'hour']\")\n",
    "        \n",
    "    df_M = pd.DataFrame(klines, columns=['Open Time', 'Open', 'High', 'Low', 'Close', 'Volume', 'Close Time', 'Quote Asset Volume', 'Number of Trades', 'Taker Buy Base Asset Volume', 'Taker Buy Quote Asset Volume', 'Ignore'])\n",
    "    columns_to_convert = ['Open', 'High', 'Low', 'Close', 'Volume', 'Quote Asset Volume', 'Number of Trades', 'Taker Buy Base Asset Volume', 'Taker Buy Quote Asset Volume']\n",
    "\n",
    "    for col in columns_to_convert:\n",
    "        df_M[col] = df_M[col].astype(float)\n",
    "\n",
    "    return df_M"
   ]
  },
  {
   "cell_type": "code",
   "execution_count": 62,
   "id": "97ff5d56",
   "metadata": {},
   "outputs": [],
   "source": [
    "def get_closest_price(api_key, api_secret, symbol, time):\n",
    "    \"\"\"\n",
    "    根据 symbol 和 time 查询最近的 1 秒钟 K 线数据，\n",
    "    返回该 K 线的收盘价 (close price)。\n",
    "\n",
    "    参数:\n",
    "      symbol: 交易对标识，如 \"BTCUSDT\"\n",
    "      time: 目标时间（datetime 对象）\n",
    "      api_key: 币安的API Key\n",
    "      api_secret: 币安的API Secret\n",
    "\n",
    "    返回:\n",
    "      最近 K 线的收盘价格 (float)。如果没有数据，则返回 None。\n",
    "    \"\"\"\n",
    "    \n",
    "    start_time = time\n",
    "    end_time = start_time + datetime.timedelta(seconds=1)\n",
    "    df_M = get_timerange_klines(api_key, api_secret, symbol, start_time, end_time)\n",
    "    try:\n",
    "        price = df_M['Close'][0]\n",
    "    except:\n",
    "        price = None\n",
    "    return price\n",
    "    "
   ]
  },
  {
   "cell_type": "code",
   "execution_count": 89,
   "id": "af40e00f",
   "metadata": {},
   "outputs": [],
   "source": [
    "def get_interval_volumn(api_key, api_secret, symbol, time, interval_type, interval_amount):\n",
    "    \"\"\"\n",
    "    根据 symbol 和 time 查询time前后相应时间的volumn总值。\n",
    "\n",
    "    参数:\n",
    "      symbol: 交易对标识，如 \"BTCUSDT\"\n",
    "      time: 目标时间（datetime 对象）\n",
    "      interval_type: 间隔类型，必须从['second','minute','hour']中选择\n",
    "      interval_amount: 间隔数量，非零整数\n",
    "      api_key: 币安的API Key\n",
    "      api_secret: 币安的API Secret\n",
    "\n",
    "    返回:\n",
    "      最近 K 线的收盘价格 (float)。如果没有数据，则返回 None。\n",
    "    \"\"\"\n",
    "    \n",
    "    if interval_amount > 0:\n",
    "        start_time = time\n",
    "    else:\n",
    "        end_time = time\n",
    "    \n",
    "    if interval_type == 'second':\n",
    "        if interval_amount > 0:\n",
    "            start_time = time\n",
    "            end_time = start_time + datetime.timedelta(seconds=int(interval_amount))\n",
    "        else:\n",
    "            end_time = time\n",
    "            start_time = end_time + datetime.timedelta(seconds=int(interval_amount))\n",
    "    elif interval_type == 'minute':\n",
    "        if interval_amount > 0:\n",
    "            start_time = time\n",
    "            end_time = start_time + datetime.timedelta(minutes=int(interval_amount))\n",
    "        else:\n",
    "            end_time = time\n",
    "            start_time = end_time + datetime.timedelta(minutes=int(interval_amount))\n",
    "    elif interval_type == 'hour':\n",
    "        if interval_amount > 0:\n",
    "            start_time = time\n",
    "            end_time = start_time + datetime.timedelta(hours=int(interval_amount))\n",
    "        else:\n",
    "            end_time = time\n",
    "            start_time = end_time + datetime.timedelta(hours=int(interval_amount))\n",
    "    else:\n",
    "        raise Exception(\"interval_type should be selected from ['second', 'minute', 'hour']\")\n",
    "\n",
    "    df_M = get_timerange_klines(api_key, api_secret, symbol, start_time, end_time, interval=interval_type)\n",
    "\n",
    "    #     print(df_M)\n",
    "    \n",
    "    try:\n",
    "        volumn = df_M['Volume'].sum()\n",
    "        \n",
    "    except:\n",
    "        volumn = None\n",
    "        \n",
    "    return volumn\n",
    "    "
   ]
  },
  {
   "cell_type": "code",
   "execution_count": 90,
   "id": "b6383456",
   "metadata": {},
   "outputs": [
    {
     "data": {
      "text/plain": [
       "83983.2"
      ]
     },
     "execution_count": 90,
     "metadata": {},
     "output_type": "execute_result"
    }
   ],
   "source": [
    "symbol = 'BTCUSDT'\n",
    "time = datetime.datetime(2025, 3, 15, 0, 0, 0)\n",
    "get_closest_price(api_key, api_secret, symbol, time)"
   ]
  },
  {
   "cell_type": "code",
   "execution_count": 93,
   "id": "397376f2",
   "metadata": {},
   "outputs": [
    {
     "name": "stdout",
     "output_type": "stream",
     "text": [
      "       Open Time      Open      High       Low     Close    Volume  \\\n",
      "0  1741996800000  83983.19  84052.93  83983.19  84045.49  21.71669   \n",
      "1  1741996860000  84045.49  84045.49  83964.57  83971.29   7.41994   \n",
      "2  1741996920000  83971.29  84059.18  83971.29  84048.15   6.58345   \n",
      "3  1741996980000  84048.15  84075.12  84042.42  84042.42   5.68202   \n",
      "4  1741997040000  84042.42  84063.19  84021.07  84063.18   5.89182   \n",
      "5  1741997100000  84063.18  84063.19  84035.56  84053.96   5.27675   \n",
      "\n",
      "      Close Time  Quote Asset Volume  Number of Trades  \\\n",
      "0  1741996859999        1.824733e+06            2993.0   \n",
      "1  1741996919999        6.232609e+05            1804.0   \n",
      "2  1741996979999        5.531481e+05            1356.0   \n",
      "3  1741997039999        4.776263e+05             905.0   \n",
      "4  1741997099999        4.952126e+05            1117.0   \n",
      "5  1741997159999        4.435294e+05            1408.0   \n",
      "\n",
      "   Taker Buy Base Asset Volume  Taker Buy Quote Asset Volume Ignore  \n",
      "0                     10.49778                 881995.957738      0  \n",
      "1                      1.19858                 100661.293364      0  \n",
      "2                      5.04441                 423847.717503      0  \n",
      "3                      3.53465                 297117.992472      0  \n",
      "4                      3.00399                 252475.591961      0  \n",
      "5                      3.40931                 286564.051089      0  \n"
     ]
    },
    {
     "data": {
      "text/plain": [
       "52.57067000000001"
      ]
     },
     "execution_count": 93,
     "metadata": {},
     "output_type": "execute_result"
    }
   ],
   "source": [
    "interval_type = 'minute'\n",
    "interval_amount = 5\n",
    "get_interval_volumn(api_key, api_secret, symbol, time, interval_type, interval_amount)"
   ]
  },
  {
   "cell_type": "code",
   "execution_count": null,
   "id": "45ca16ac",
   "metadata": {},
   "outputs": [],
   "source": []
  }
 ],
 "metadata": {
  "kernelspec": {
   "display_name": "Python 3 (ipykernel)",
   "language": "python",
   "name": "python3"
  },
  "language_info": {
   "codemirror_mode": {
    "name": "ipython",
    "version": 3
   },
   "file_extension": ".py",
   "mimetype": "text/x-python",
   "name": "python",
   "nbconvert_exporter": "python",
   "pygments_lexer": "ipython3",
   "version": "3.11.3"
  }
 },
 "nbformat": 4,
 "nbformat_minor": 5
}
